{
 "cells": [
  {
   "cell_type": "code",
   "execution_count": 3,
   "metadata": {
    "collapsed": true
   },
   "outputs": [],
   "source": [
    "import webbrowser\n",
    "import time\n",
    "class ReaderBot:\n",
    "    \n",
    "    def __init__(self):\n",
    "        self.accepted_messages = {}\n",
    "        self.register_callback(\"Hi\", \n",
    "                               self.respond_to_greeting)\n",
    "        self.register_callback(\"Robotics\", \n",
    "                               self.respond_to_robotics)\n",
    "        self.register_callback(\"Self Driving Cars\", \n",
    "                               self.respond_to_sdc)\n",
    "        self.register_callback(\"Pytorch\", \n",
    "                               self.respond_to_pytorch)\n",
    "        self.register_callback(\"Reinforcement Learning\", \n",
    "                               self.respond_to_reinforcement_learning)\n",
    "        self.register_callback(\"Flying Cars\", \n",
    "                               self.respond_to_flying_car)\n",
    "        self.register_callback(\"Bye\", \n",
    "                               self.respond_to_departure)\n",
    "    \n",
    "    def register_callback(self, message, callback):\n",
    "        \"\"\"\n",
    "        Registers a callback to a message.\n",
    "        \"\"\"\n",
    "        if message not in self.accepted_messages:\n",
    "            self.accepted_messages[message] = []\n",
    "        self.accepted_messages[message].append(callback)\n",
    "        \n",
    "    def respond_to_greeting(self):\n",
    "        print(\"Hello! Welcome to Navigator bot!\\n We're featuring Robotics, Self Driving Car, Pytorch, Reinforcement Learning, Flying Car Reads\")\n",
    "\n",
    "    def respond_to_robotics(self):\n",
    "        webbrowser.open_new(\"https://hackernoon.com/robotics-series-0-announcement-and-call-for-ideas-e30a58e6023e\")\n",
    "\n",
    "    def respond_to_sdc(self):\n",
    "        webbrowser.open_new(\"https://hackernoon.com/a-self-driving-new-year-33284e592f35\")\n",
    "\n",
    "    def respond_to_pytorch(self):\n",
    "        webbrowser.open_new(\"https://hackernoon.com/pytorch-primer-series-0-e2e5df9b31c6\")\n",
    "\n",
    "    def respond_to_reinforcement_learning(self):\n",
    "        webbrowser.open_new(\"https://hackernoon.com/reinforcement-learning-part-0-8c2c3efe0ad6\")\n",
    "    \n",
    "    def respond_to_flying_car(self):\n",
    "        webbrowser.open_new(\"https://hackernoon.com/quadcopter-physics-explained-468ee44ba40b?source=user_profile---------1----------------\")\n",
    "        \n",
    "    def respond_to_departure(self):\n",
    "        print(\"Nice chatting with you!\")\n",
    "    \n",
    "        \n",
    "    def handle_message(self, message):\n",
    "        if message not in self.accepted_messages:\n",
    "            print(\"sorry, I don't understand\", message)\n",
    "        else:\n",
    "            callbacks = self.accepted_messages[message]\n",
    "            for callback in callbacks:\n",
    "                callback()"
   ]
  },
  {
   "cell_type": "code",
   "execution_count": null,
   "metadata": {},
   "outputs": [
    {
     "name": "stdout",
     "output_type": "stream",
     "text": [
      "sorry, I don't understand hi\n",
      "Hi\n",
      "Hello! Welcome to Navigator bot!\n",
      " We're featuring Robotics, Self Driving Car, Pytorch, Reinforcement Learning, Flying Car Reads\n",
      "bye\n",
      "sorry, I don't understand bye\n",
      "Bye\n",
      "Nice chatting with you!\n"
     ]
    }
   ],
   "source": [
    "bot = ReaderBot()\n",
    "bot.handle_message(\"Hi\")\n",
    "time.sleep(2.7)\n",
    "while (bot.handle_message!=\"Nice chatting with you!\"):\n",
    "    msg = input()\n",
    "    time.sleep(2.7)\n",
    "    bot.handle_message(msg)"
   ]
  },
  {
   "cell_type": "code",
   "execution_count": null,
   "metadata": {
    "collapsed": true
   },
   "outputs": [],
   "source": []
  }
 ],
 "metadata": {
  "kernelspec": {
   "display_name": "Python 3",
   "language": "python",
   "name": "python3"
  },
  "language_info": {
   "codemirror_mode": {
    "name": "ipython",
    "version": 3
   },
   "file_extension": ".py",
   "mimetype": "text/x-python",
   "name": "python",
   "nbconvert_exporter": "python",
   "pygments_lexer": "ipython3",
   "version": "3.6.1"
  }
 },
 "nbformat": 4,
 "nbformat_minor": 2
}
